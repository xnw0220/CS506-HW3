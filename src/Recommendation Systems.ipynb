{
 "cells": [
  {
   "cell_type": "code",
   "execution_count": 52,
   "metadata": {},
   "outputs": [],
   "source": [
    "import networkx as nx\n",
    "import math"
   ]
  },
  {
   "cell_type": "code",
   "execution_count": 8,
   "metadata": {},
   "outputs": [
    {
     "name": "stdout",
     "output_type": "stream",
     "text": [
      "Name: \n",
      "Type: Graph\n",
      "Number of nodes: 6427\n",
      "Number of edges: 15791\n",
      "Average degree:   4.9140\n"
     ]
    }
   ],
   "source": [
    "# a)  Read the file “old_edges.txt” and create a graph using NetworkX.\n",
    "fh = open(\"old_edges.txt\", 'r')\n",
    "g_old = nx.read_edgelist(fh, delimiter = '\\t')\n",
    "print(nx.info(g_old))"
   ]
  },
  {
   "cell_type": "code",
   "execution_count": 19,
   "metadata": {},
   "outputs": [
    {
     "name": "stdout",
     "output_type": "stream",
     "text": [
      "Name: \n",
      "Type: Graph\n",
      "Number of nodes: 1143\n",
      "Number of edges: 1701\n",
      "Average degree:   2.9764\n"
     ]
    },
    {
     "data": {
      "text/plain": [
       "DegreeView({'Aaditya Ramdas': 3, 'Kevin G. Jamieson': 2, 'Martin J. Wainwright': 4, 'Michael I. Jordan': 16, 'Aapo Hyvärinen': 1, 'Motoaki Kawanabe': 2, 'Aaron C. Courville': 11, 'Simon Lacoste-Julien': 5, 'Aaron Roth': 3, 'Bo Waggoner': 3, 'Aarti Singh': 10, 'Artur Dubrawski': 3, 'Barnabás Póczos': 9, 'Eric P. Xing': 7, 'Abdel-rahman Mohamed': 1, 'Pushmeet Kohli': 19, 'Adam Lerer': 2, 'Arthur Szlam': 3, 'Adam R. Klivans': 2, 'Raghu Meka': 1, 'Adam Santoro': 5, 'David G. T. Barrett': 6, 'Mateusz Malinowski': 5, 'Peter Battaglia': 18, 'Razvan Pascanu': 28, 'Tim Lillicrap': 10, 'Adarsh Prasad': 1, 'Alexandru Niculescu-Mizil': 2, 'Adith Swaminathan': 4, 'Akshay Krishnamurthy': 4, 'Alekh Agarwal': 6, 'John Langford 0001': 6, 'Miroslav Dudík': 12, 'Aditi Raghunathan': 3, 'Gregory Valiant': 4, 'James Zou': 6, 'Prateek Jain 0002': 5, 'Aditya Grover': 2, 'Jayesh K. Gupta': 2, 'Maruan Al-Shedivat': 4, 'Adrian Weller': 14, 'Jinwoo Shin': 2, 'Adrià Puigdomènech Badia': 16, 'Charles Blundell': 7, 'Daan Wierstra': 14, 'Demis Hassabis': 25, 'Nicolas Heess': 19, 'Oriol Vinyals': 27, 'Yujia Li': 14, 'Agnieszka Grabska-Barwinska': 3, 'Yee Whye Teh': 14, 'Ahmed Hefny': 2, 'Byron Boots': 5, 'Wen Sun 0002': 3, 'Akihiro Yabe': 4, 'Naonori Kakimura': 2, 'Ryohei Fujimaki': 5, 'Shinji Ito': 4, 'Takuro Fukunaga': 3, 'Akiko Takeda': 5, 'Junya Honda': 1, 'Kenji Fukumizu': 3, 'Taiji Suzuki': 1, 'Tzu-Kuo Huang': 2, 'Zhiwei Steven Wu': 3, 'Alban Desmaison': 4, 'Frank D. Wood': 4, 'Noah D. Goodman': 6, 'Alberto García-Durán': 1, 'Mathias Niepert': 1, 'Hanna M. Wallach': 4, 'Yisong Yue': 8, 'Alessandro Lazaric': 3, 'Michal Valko': 4, 'Ronald Ortner': 2, 'Alessandro Rinaldo': 2, 'Ryan J. Tibshirani': 2, 'Alessandro Rudi': 1, 'Massimiliano Pontil': 3, 'Alex Gittens': 5, 'Benjamin Recht': 4, 'Alex Graves': 7, 'Marc G. Bellemare': 4, 'Alex Lamb': 1, 'Yaroslav Ganin': 5, 'Alexander A. Alemi': 2, 'Ben Poole': 3, 'Joshua V. Dillon': 2, 'Alexander Binder': 3, 'Emmanuel Müller': 4, 'Alexander G. Schwing': 2, 'Svetlana Lazebnik': 1, 'Alexander Ilin': 3, 'Antti Rasmus': 2, 'Harri Valpola': 2, 'Tele Hao': 3, 'Alexander M. Rush': 4, 'Yann LeCun': 1, 'Alexander Pritzel': 11, 'Benigno Uria': 7, 'Matthew Botvinick': 10, 'S. M. Ali Eslami': 9, 'Sriram Srinivasan': 7, 'Alexandre Lacoste': 1, 'Alexandros G. Dimakis': 10, 'Amin Karbasi': 4, 'Joydeep Ghosh': 2, 'Nikos Karampatziakis': 5, 'Sahand Negahban': 3, 'Sanjay Shakkottai': 4, 'Pradeep Ravikumar': 7, 'Alexei A. Efros': 5, 'Trevor Darrell': 2, 'Alina Beygelzimer': 3, 'Francesco Orabona': 2, 'Alon Cohen': 2, 'Kunal Talwar': 3, 'Yishay Mansour': 4, 'Alp Yurtsever': 3, 'Madeleine Udell': 3, 'Olivier Fercoq': 3, 'Amaury Habrard': 1, 'Alain Rakotomamonjy': 3, 'Ambuj Tewari': 1, 'Susan A. Murphy': 2, 'Amir Dezfouli': 1, 'Richard Nock': 3, 'Amir Globerson': 2, 'Yaron Singer': 3, 'Amir-massoud Farahmand': 1, 'Martha White': 3, 'Amjad Almahairi': 1, 'Philip Bachman': 2, 'Ananda Theertha Suresh': 7, 'H. Brendan McMahan': 3, 'Karthikeyan Shanmugam': 4, 'Anant Raj': 3, 'Bernhard Schölkopf': 8, 'Gunnar Rätsch': 4, 'Martin Jaggi': 5, 'Andreas Geiger': 1, 'Sebastian Nowozin': 3, 'Andreas Krause 0001': 3, 'Joachim M. Buhmann': 5, 'Andrej Karpathy': 3, 'Linxi Fan': 3, 'Percy Liang': 10, 'Andres Muñoz Medina': 1, 'Sergei Vassilvitskii': 5, 'Andrew C. Miller': 3, 'David Sontag': 6, 'Nicholas J. Foti': 3, 'Andrew Cotter': 1, 'Jeff A. Bilmes': 3, 'Andrew Gordon Wilson': 4, 'Peter I. Frazier': 2, 'Andrew J. Saykin': 2, 'Franco Pestilli': 2, 'Andriy Mnih': 8, 'Arnaud Doucet': 5, 'Chris J. Maddison': 8, 'Daniel Zoran': 7, 'Jascha Sohl-Dickstein': 12, 'André F. T. Martins': 2, 'Claire Cardie': 2, 'Mathieu Blondel': 4, 'Aniruddha Bhargava': 3, 'Rebecca Willett': 3, 'Robert D. Nowak': 3, 'Anirudh Goyal': 1, 'Surya Ganguli': 3, 'Anna Choromanska': 2, 'Anshumali Shrivastava': 2, 'Richard G. Baraniuk': 3, 'Antoine Bordes': 2, 'Ludovic Denoyer': 3, \"Marc'Aurelio Ranzato\": 5, 'Anton Osokin': 1, 'Francis R. Bach': 5, 'Arian Maleki': 1, 'Vahab S. Mirrokni': 2, 'Ariel Jaffe': 1, 'Roi Weiss': 3, 'Armand Joulin': 5, 'David Grangier': 5, 'David Lopez-Paz': 3, 'Moustapha Cissé': 7, 'Armando Solar-Lezama': 1, 'Leslie Pack Kaelbling': 1, 'Arthur Guez': 17, 'Danilo Jimenez Rezende': 16, 'David P. Reichert': 18, 'Karen Simonyan': 19, 'Rémi Munos': 16, 'Theophane Weber': 15, 'Thomas Degris': 6, 'Tim Harley': 9, 'Arthur Mensch': 2, 'Danilo Bzdok': 2, 'Arun Sai Suggala': 6, 'Eunho Yang': 1, 'Manik Varma': 1, 'Mladen Kolar': 5, 'Shou-De Lin': 1, 'Arun Venkatraman': 2, 'Geoffrey J. Gordon': 3, 'Martial Hebert': 4, 'Aryan Mokhtari': 3, 'Hui Qian': 2, 'Peilin Zhao': 2, 'Ashia C. Wilson': 4, 'Nati Srebro': 4, 'Ashkan Norouzi-Fard': 1, 'Ola Svensson': 1, 'Asja Fischer': 4, 'Audrunas Gruslys': 3, 'David Silver': 21, 'Julien Pérolat': 5, 'Thore Graepel': 7, 'Aurko Roy': 4, 'Huan Xu': 8, 'Noam Shazeer': 3, 'Aurélien Lucchi': 3, 'Avinava Dubey': 3, 'Ruslan Salakhutdinov': 7, 'Aviv Tamar': 3, 'Igor Mordatch': 3, 'Aäron van den Oord': 14, 'Erich Elsen': 9, 'Florian Stimberg': 9, 'Ivo Danihelka': 4, 'Nando de Freitas': 11, 'Sergio Gomez Colmenarejo': 9, 'Yutian Chen': 10, 'Ziyu Wang 0001': 8, 'Balaji Lakshminarayanan': 2, 'Balázs Szörényi': 1, 'Shie Mannor': 4, 'Behnam Neyshabur': 5, 'Yi Zhang': 5, 'Ben Glocker': 2, 'Aditya V. Nori': 2, 'Antonio Criminisi': 2, 'Jon M. Kleinberg': 6, 'Benjamin Moseley': 2, 'Roman Garnett': 2, 'Bernhard Nessler': 2, 'Sepp Hochreiter': 2, 'Sergey Levine': 7, 'Bernt Schiele': 3, 'Luc Van Gool': 1, 'Tinne Tuytelaars': 1, 'Bin Gu': 1, 'Heng Huang': 2, 'Blake E. Woodworth': 3, 'Srinadh Bhojanapalli': 2, 'Bo Dai': 10, 'Alexander J. Smola': 3, 'Dahua Lin': 1, 'James M. Rehg': 4, 'Jianshu Chen': 8, 'Lihong Li 0001': 12, 'Lin Xiao': 7, 'Sanjiv Kumar': 7, 'Tuo Zhao': 6, 'Xingguo Li': 7, 'Steven Z. Wu': 2, 'Bo Wang': 1, 'Alan L. Yuille': 1, 'Bohyung Han': 1, 'Leonid Sigal': 1, 'Borja Balle': 3, 'Odalric-Ambrym Maillard': 1, 'Yu-Xiang Wang': 5, 'Bowei Yan': 3, 'Kai Zhong': 4, 'Oluwasanmi Koyejo': 4, 'Brandon Amos': 1, 'J. Zico Kolter': 1, 'Branislav Kveton': 2, 'Mohammad Ghavamzadeh': 6, 'Brooks Paige': 6, 'José Miguel Hernández-Lobato': 6, 'Philip H. S. Torr': 6, 'Bruno Scherrer': 2, 'Cameron Musco': 3, 'David P. Woodruff': 10, 'Carl Edward Rasmussen': 2, 'James Hensman': 3, 'Jan Peters 0001': 2, 'Carlo Ciliberto': 1, 'Carlton Downey': 1, 'Ce Zhang': 6, 'Cho-Jui Hsieh': 8, 'Huan Zhang': 3, 'Ji Liu': 5, 'Celestine Dünner': 2, 'Thomas Hofmann': 2, 'Cesar F. Caiafa': 2, 'Chang Liu': 3, 'Bo Zhang': 4, 'Jiaxin Shi': 4, 'Ning Chen': 4, 'Changho Suh': 2, 'Sewoong Oh': 1, 'Changyou Chen': 1, 'Yunchen Pu': 3, 'Chao Du': 1, 'Jun Zhu': 7, 'Cheng Li': 2, 'Varun Kanade': 2, 'Zhenming Liu': 1, 'Chengtao Li': 3, 'Ken-ichi Kawarabayashi': 4, 'Chi Jin': 4, 'Jason D. Lee': 4, 'Chinmay Hegde': 1, 'Soumik Sarkar': 1, 'Chiyuan Zhang': 2, 'James Sharpnack': 5, 'Kush R. Varshney': 4, 'Lijun Zhang 0005': 3, 'Qi Lei': 8, 'Chong Wang': 8, 'Dengyong Zhou': 7, 'Ji He': 2, 'Li Deng 0001': 6, 'Po-Sen Huang': 4, 'Yining Wang': 6, 'Chris Dyer': 4, 'Peter Dayan': 3, 'Timothy P. Lillicrap': 9, 'Mohammad Norouzi 0002': 10, 'Chris Junchi Li': 3, 'Mengdi Wang': 3, 'Tong Zhang': 9, 'Christian Borgs': 2, 'Christina E. Lee': 2, 'Devavrat Shah': 2, 'Christian Daniel': 3, 'Duy Nguyen-Tuong': 3, 'Marc Toussaint': 3, 'Stefan Schaal': 5, 'Christoph Dann': 1, 'Tor Lattimore': 2, 'Christopher C. Holmes': 2, 'Christopher Yau': 2, 'Michalis K. Titsias': 1, 'Dino Sejdinovic': 1, 'Christos Dimitrakakis': 1, 'David C. Parkes': 1, 'Christos Louizos': 4, 'Joris M. Mooij': 5, 'Richard S. Zemel': 7, 'Uri Shalit': 4, 'Chun-Liang Li': 3, 'Yiming Yang': 4, 'Yu Cheng': 3, 'Chunhua Shen': 2, 'Junzhou Huang': 4, 'Mingkui Tan': 2, 'Chunyuan Li': 1, 'Shaobo Han': 4, 'Cijo Jose': 1, 'Claudio Gentile': 7, 'Gergely Neu': 5, 'Gábor Lugosi': 4, 'Mehryar Mohri': 4, 'Purushottam Kar': 3, 'Scott Yang': 2, 'Corinna Cortes': 1, 'Creighton Heaukulani': 3, 'Lancelot F. James': 2, 'Seungjin Choi': 2, 'Csaba Szepesvári': 6, 'Steffen Grünewälder': 2, 'Venkatesh Saligrama': 4, 'Damien Garreau': 1, 'Ulrike von Luxburg': 1, 'Dan Alistarh': 4, 'Jerry Li 0001': 7, 'Ryota Tomioka': 3, 'Dan Garber': 2, 'Nathan Srebro': 5, 'Ohad Shamir': 1, 'Dan Klein': 1, 'Dan Rosenbaum': 4, 'David Saxton': 4, 'Dane S. Corneil': 1, 'Johanni Brea': 2, 'Daniel J. Hsu': 1, 'Xiaorui Sun': 1, 'Daniel J. Mankowitz': 6, 'Daniel Reichman 0001': 3, 'Jonathan D. Cohen': 3, 'Tal Wagner': 8, 'Daniel Rueckert': 2, 'Daniel Selsam': 1, 'Daniel Soudry': 2, 'Daniel Stefankovic': 2, 'Yoav Goldberg': 2, 'Daniele Calandriello': 1, 'David Abel': 1, 'George Konidaris': 3, 'David Balduzzi': 2, 'James Martens': 2, 'David E. Carlson': 1, 'E. J. Chichilnisky': 2, 'Yann N. Dauphin': 1, 'Lars Buesing': 14, 'Lin Yang': 5, 'Hado van Hasselt': 5, 'Max Welling': 5, 'Debadeepta Dey': 1, 'Ashish Kapoor': 1, 'Deva Ramanan': 3, 'Charless C. Fowlkes': 1, 'Devansh Arpit': 5, 'Nicolas Ballas': 4, 'Yoshua Bengio': 7, 'Di He': 2, 'Hanqing Lu': 5, 'Wei Chen 0034': 5, 'Di Wang': 1, 'Jinhui Xu 0001': 1, 'Dinggang Shen': 3, 'Dmitri B. Chklovskii': 3, 'Eftychios A. Pnevmatikakis': 2, 'Liam Paninski': 2, 'Doina Precup': 2, 'Pascal Vincent': 2, 'Dumitru Erhan': 1, 'Honglak Lee': 2, 'Dustin Tran': 3, 'John William Paisley': 2, 'Dylan J. Foster': 8, 'Haipeng Luo': 2, 'Matus J. Telgarsky': 2, 'Robert E. Schapire': 4, 'Satyen Kale': 8, 'Dzmitry Bahdanau': 3, 'Richard E. Turner': 8, 'Edouard Grave': 5, 'Nicolas Usunier': 5, 'Yann Dauphin': 3, 'Edwin V. Bonilla': 3, 'Maurizio Filippone': 2, 'Elad Hazan': 4, 'Wei Hu': 2, 'Yuanzhi Li': 7, 'Elman Mansimov': 3, 'Jimmy Ba': 2, 'Roger B. Grosse': 4, 'Emanuel Todorov': 1, 'Sham M. Kakade': 4, 'Emilie Kaufmann': 1, 'Wouter M. Koolen': 1, 'Marius Kloft': 2, 'Enhong Chen': 2, 'Tianbao Yang': 1, 'Eric Balkanski': 4, 'Umar Syed': 1, 'Eric Battenberg': 2, 'Ron J. Weiss': 2, 'Yuxuan Wang': 2, 'Shimon Whiteson': 7, 'Eric Price': 1, 'Eric Tzeng': 2, 'Phillip Isola': 5, 'Koray Kavukcuoglu': 8, 'Nal Kalchbrenner': 10, 'Sander Dieleman': 9, 'Erik G. Learned-Miller': 1, 'Andrew McCallum': 1, 'Erik M. Lindgren': 1, 'Ersin Yumer': 1, 'Katerina Fragkiadaki': 1, 'Ethan Fetaya': 5, 'Raquel Urtasun': 4, 'Xaq Pitkow': 4, 'Eugene Belilovsky': 1, 'Kyle Kastner': 3, 'Evan W. Archer': 2, 'Srinivas C. Turaga': 2, 'Evangelos A. Theodorou': 1, 'Evangelos Theodorou': 2, 'Le Song': 14, 'Fan Yang': 4, 'Wen Dong 0001': 1, 'William W. Cohen': 1, 'Zhilin Yang': 1, 'Farbod Roosta-Khorasani': 2, 'Prabhat': 3, 'Shashanka Ubaru': 3, 'Felix X. Yu': 4, 'Finale Doshi-Velez': 3, 'Flavio Chierichetti': 6, 'Ravi Kumar 0001': 5, 'Rina Panigrahy': 5, 'Silvio Lattanzi': 7, 'Sreenivas Gollapudi': 5, 'Flávio du Pin Calmon': 1, 'Chicheng Zhang': 2, 'Laurent Massoulié': 4, 'Sébastien Bubeck': 4, 'Yin Tat Lee': 3, 'Francois Caron': 1, 'Fred A. Hamprecht': 1, 'Boaz Nadler': 1, 'Furong Huang': 2, 'Gal Dalal': 1, 'Gang Niu': 1, 'Issei Sato': 1, 'Gang Wang 0014': 1, 'Yousef Saad': 2, 'Garrett Bernstein': 1, 'Tao Sun': 1, 'Gautam Dasarathy': 2, 'Gautam Kamath': 3, 'Ankur Moitra': 3, 'Gavin Taylor': 2, 'Mário A. T. Figueiredo': 4, 'Xiaoming Yuan': 3, 'Gemma Roig': 1, 'Tomaso A. Poggio': 1, 'J. Andrew Bagnell': 1, 'Georg Ostrovski': 2, 'Michael L. Littman': 2, 'Georgios B. Giannakis': 1, 'Georgios Exarchakis': 2, 'Stéphane Mallat': 2, 'Dacheng Tao': 2, 'Giulia DeSalvo': 2, 'Graham Cormode': 1, 'Grzegorz Swirszcz': 5, 'Max Jaderberg': 8, 'Simon Osindero': 7, 'Guangcan Liu': 1, 'Xiaotong Yuan': 2, 'Guillaume Rabusseau': 2, 'Joelle Pineau': 4, 'Gunhee Kim': 1, 'Sung Ju Hwang': 1, 'Hado P. van Hasselt': 4, 'Tom Schaul': 12, 'Haim Avron': 3, 'Christopher Musco': 2, 'Michael Kapralov': 3, 'Hairong Liu': 3, 'Sanjeev Satheesh': 1, 'Xiangang Li': 1, 'Zhenyao Zhu': 1, 'Hal Daumé III': 6, 'Paul Mineiro': 2, 'Han Liu': 1, 'Zhaoran Wang': 2, 'Hanjun Dai': 4, 'Yichen Wang': 3, 'Hannes Nickisch': 1, 'David Bindel': 1, 'Liwei Wang 0001': 2, 'Tao Qin': 2, 'Tie-Yan Liu': 1, 'Yingce Xia': 2, 'Hanxiao Liu': 1, 'Yuexin Wu': 2, 'Hao Peng': 2, 'Shandian Zhe': 1, 'Yuan Qi': 1, 'Harm de Vries': 4, 'Hugo Larochelle': 3, 'Jérémie Mary': 4, 'Olivier Pietquin': 4, 'Hervé Glotin': 1, 'Hirakendu Das': 1, 'Hoang Minh Le 0002': 1, 'Patrick Lucey': 3, 'Hong Chen': 1, 'Hongseok Namkoong': 3, 'Aman Sinha': 1, 'Hongteng Xu': 1, 'Lawrence Carin': 5, 'Hongyang Zhang 0001': 4, 'Hossein Esfandiari': 1, 'Hsiang-Fu Yu': 1, 'Hongyuan Zha': 4, 'Rakshit Trivedi': 6, 'Sebastian Pokutta': 2, 'Shuang Li 0002': 3, 'Inderjit S. Dhillon': 3, 'Hung Hai Bui': 3, 'Dinh Q. Phung': 3, 'Hyeonwoo Noh': 1, 'Tackgeun You': 1, 'Hyunjik Kim': 1, 'Hyunwoo J. Kim': 1, 'Johannes Fürnkranz': 1, 'Ian Davidson': 1, 'Ian En-Hsu Yen': 5, 'Ian Osband': 3, 'Volodymyr Mnih': 4, 'Ilias Diakonikolas': 2, 'Ilja Kuzborskij': 2, 'Christoph H. Lampert': 1, 'Nicolò Cesa-Bianchi': 2, 'Ilker Yildirim': 2, 'Josh Tenenbaum': 2, 'Ilya P. Razenshteyn': 1, 'Insu Han': 1, 'Prabhanjan Kambadur': 2, 'Ioannis Mitliagkas': 2, 'Leonidas J. Guibas': 1, 'Lester W. Mackey': 5, 'Isabel Valera': 1, 'Ishaan Gulrajani': 2, 'Martín Arjovsky': 4, 'Jack W. Rae': 3, 'Jackson Gorham': 2, 'Chris J. Oates': 2, 'François-Xavier Briol': 2, 'Jacob Andreas': 3, 'Quoc V. Le': 4, 'Jacob D. Abernethy': 1, 'Jun-Kun Wang': 1, 'Jacob R. Gardner': 1, 'Jacob Steinhardt': 1, 'Pang Wei Koh': 3, 'Jakob N. Foerster': 7, 'David Sussillo': 3, 'Jan Chorowski': 3, 'James Bradbury': 1, 'Caiming Xiong': 1, 'James Kirkpatrick': 3, 'James MacGlashan': 1, 'Matthew E. Taylor': 3, 'James Y. Zou': 1, 'David Tse': 2, 'Jamie Morgenstern': 4, 'Jan-Willem van de Meent': 4, 'Jarvis D. Haupt': 3, 'Jeffrey Pennington': 3, 'Jason Pacheco': 1, 'John W. Fisher III': 1, 'Jason S. Hartford': 1, 'Siamak Ravanbakhsh': 3, 'Jason Yosinski': 1, 'Jeffrey Regier': 1, 'Jelena Luketina': 3, 'Jennifer T. Chayes': 2, 'Milan Vojnovic': 2, 'Jesse Engel': 3, 'Jiajun Wu 0001': 2, 'Tejas D. Kulkarni': 2, 'Jialei Wang': 5, 'Tong Zhang 0001': 4, 'Jialian Li': 1, 'Jiaming Song': 3, 'Shengjia Zhao': 1, 'Stefano Ermon': 3, 'Jian Wu': 1, 'Jian Zhang': 1, 'Jianchao Yang': 5, 'Jiashi Feng': 5, 'Nebojsa Jojic': 5, 'Shuicheng Yan': 4, 'Jianfei Chen 0001': 1, 'Chongxuan Li': 1, 'Jianmin Wang 0001': 1, 'Philip S. Yu': 2, 'Jiaxiang Wu': 2, 'Jiecao Chen': 3, 'Xi Chen': 2, 'Yuan Zhou': 2, 'Jihun Hamm': 1, 'Yung-Kyun Noh': 3, 'Jimei Yang': 5, 'Zequn Jie': 2, 'Jinfeng Yi': 3, 'Zhi-Hua Zhou': 1, 'Jiong Zhang': 2, 'Zhao Song': 8, 'Sebastian Tschiatschek': 1, 'Joel A. Tropp': 2, 'Joel W. Burdick': 1, 'Joel Z. Leibo': 2, 'Laurent Charlin': 3, 'Johannes Friedrich': 2, 'John C. Duchi': 3, 'Aaron Sidford': 1, 'Kilian Q. Weinberger': 2, 'Jonas Mueller': 1, 'David K. Gifford': 1, 'Jonathan H. Huggins': 1, 'Ryan P. Adams': 3, 'Jonathan Ho': 5, 'Ilya Sutskever': 2, 'Pieter Abbeel': 5, 'Wojciech Zaremba': 5, 'Jonathan J. Hunt': 4, 'Joseph Modayil': 3, 'Joseph Wang 0001': 2, 'Ofer Dekel': 5, 'Josh S. Merel': 5, 'Gregory Wayne': 4, 'Scott E. Reed': 9, 'Jost Tobias Springenberg': 2, 'Alán Aspuru-Guzik': 1, 'João V. Messias': 1, 'Judy Hoffman': 3, 'Fei-Fei Li': 1, 'Juho Lee': 2, 'Zoubin Ghahramani': 8, 'Julien Mairal': 1, 'Junbo Jake Zhao': 1, 'Junchi Yan': 4, 'Junhong Lin': 1, 'Volkan Cevher': 3, 'Junhyuk Oh': 2, 'Yijie Guo': 1, 'Junichiro Hirayama': 1, 'Junier B. Oliva': 2, 'Junpei Komiyama': 1, 'Jörg Bornschein': 3, 'Peter L. Bartlett': 10, 'Kamalika Chaudhuri': 2, 'Nagarajan Natarajan': 3, 'Kamil Ciosek': 1, 'Kareem Amin': 2, 'Nan Jiang': 8, 'Satinder P. Singh': 2, 'Elias Bareinboim': 2, 'Kate Saenko': 2, 'Katrina Ligett': 3, 'Katya Scheinberg': 2, 'Martin Takác': 1, 'Ke Sun 0001': 1, 'Frank Nielsen': 1, 'Kee-Eung Kim': 3, 'Daniel D. Lee': 2, 'Kelvin Xu': 2, 'Dale Schuurmans': 1, 'Ken Kansky': 1, 'Miguel Lázaro-Gredilla': 4, 'Stefanie Jegelka': 3, 'Kendall Lowrey': 1, 'Kevin Leyton-Brown': 1, 'Kevin Scaman': 4, 'Kfir Yehuda Levy': 2, 'Kirthevasan Kandasamy': 2, 'Klaus-Robert Müller': 4, 'Fei Sha': 2, 'Nico Görnitz': 5, 'Krishnakumar Balasubramanian': 3, 'Han Liu 0001': 1, 'Krzysztof Choromanski': 3, 'Mark Rowland': 6, 'Krzysztof Dembczynski': 2, 'Krzysztof Marcin Choromanski': 3, 'Vikas Sindhwani': 4, 'Kurt Cutajar': 1, 'Kwang-Sung Jun': 2, 'Gaël Varoquaux': 1, 'Matthew B. Blaschko': 1, 'Lasse Espeholt': 4, 'Laurence Aitchison': 3, 'Adam M. Packer': 1, 'Michael Häusser': 1, 'Laurent Dinh': 2, 'Samy Bengio': 4, 'Laurent Itti': 2, 'Anima Anandkumar': 2, 'Katherine A. Heller': 1, 'Santosh Vempala': 2, 'Vasilis Syrgkanis': 4, 'Li-Ping Liu': 2, 'David M. Blei': 2, 'Francisco J. R. Ruiz': 1, 'Niao He': 4, 'Yu Lu': 1, 'Lihua Lei': 1, 'Lin Chen 0003': 1, 'Lorenzo Orecchia': 1, 'Lorenzo Rosasco': 1, 'Lubor Ladicky': 1, 'Marc Pollefeys': 1, 'Lukasz Kaiser': 3, 'Mahdi Milani Fard': 1, 'Mahdi Soltanolkotabi': 2, 'Manfred Opper': 1, 'Stephan Mandt': 3, 'Manuel Gomez-Rodriguez': 1, 'Michael H. Bowling': 1, 'Marc Lanctot': 2, 'Marc Peter Deisenroth': 1, 'Marcin Andrychowicz': 6, 'Peter Welinder': 3, 'Marco Cuturi': 1, 'Marco Fraccaro': 3, 'Marco Lorenzi': 1, 'Maria-Florina Balcan': 1, 'Travis Dick': 5, 'Mario Lucic': 1, 'S. Hamed Hassani': 4, 'Mark K. Ho': 1, 'Mark van der Wilk': 1, 'Martin A. Riedmiller': 1, 'Léon Bottou': 2, 'Soumith Chintala': 2, 'Maryam Fazel': 2, 'Rong Ge 0001': 5, 'Sham Kakade': 1, 'Masaaki Imaizumi': 1, 'Takanori Maehara': 2, 'Masashi Sugiyama': 3, 'Masrour Zoghi': 4, 'Zheng Wen': 3, 'Mathieu Salzmann': 2, 'Ian D. Reid 0001': 2, 'Matt J. Kusner': 5, 'Ricardo Silva': 2, 'Matteo Hessel': 5, 'Matteo Pirotta': 4, \"Carlo D'Eramo\": 1, 'Emma Brunskill': 2, 'Matthew A. Smith': 1, 'Byron M. Yu': 1, 'Matthew Joseph': 2, 'Matthew W. Hoffman': 5, 'Max Simchowitz': 1, 'Moritz Hardt': 3, 'Maya R. Gupta': 1, 'Mehrdad Farajtabar': 5, 'Yinlam Chow': 1, 'Karthik Sridharan': 2, 'Meisam Razaviyayn': 1, 'Shahin Shahrampour': 1, 'Mengye Ren': 2, 'Michael Chertkov': 1, 'Michael Eickenberg': 2, 'Jon McAuliffe': 1, 'Michael J. Kearns': 3, 'Michael M. Bronstein': 1, 'Xavier Bresson': 1, 'Michael Mitzenmacher': 1, 'Michael Tschannen': 6, 'Animashree Anandkumar': 2, 'Luc J. Van Gool': 1, 'D. Scott Phoenix': 1, 'Dileep George': 1, 'Xinghua Lou': 1, 'Mikhail Yurochkin': 2, 'Miltiadis Allamanis': 1, 'Mingjun Zhong': 1, 'Gerhard Neumann': 1, 'Mingsheng Long': 1, 'Minmin Chen': 1, 'Jennifer Wortman Vaughan': 2, 'Ryan M. Rogers': 2, 'Misha Denil': 5, 'Mo Yu': 2, 'Thomas S. Huang': 2, 'Xiaoxiao Guo': 2, 'Moein Falahatgar': 1, 'Mohammad Emtiyaz Khan': 1, 'Yarin Gal': 2, 'Benjamin Van Roy': 1, 'Mohammad Gheshlaghi Azar': 1, 'Dominik Janzing': 1, 'François Fleuret': 1, 'Joseph Keshet': 1, 'Murat A. Erdogdu': 1, 'Yash Deshpande': 3, 'Murat Kocaoglu': 1, 'Tom Goldstein': 1, 'Nadav Cohen': 2, 'Nenghai Yu': 4, 'Zhiming Ma': 1, 'Robert A. Vandermeulen': 4, 'Nico S. Gorbach': 2, 'Stefan Bauer': 2, 'Nicolas Courty': 1, 'Guillaume Obozinski': 1, 'Nicolò Colombo': 1, 'Nika Haghtalab': 2, 'Patrick Jaillet': 2, 'Nikolay Jetchev': 2, 'Nilesh Tripuraneni': 3, 'Nir Rosenfeld': 2, 'Niru Maheswaranathan': 4, 'Noga Alon': 5, 'Amir Yehudayoff': 2, 'Shay Moran': 2, 'Novi Quadrianto': 1, 'Yusu Wang': 2, 'Olivier Bachem': 1, 'Olivier Sigaud': 1, 'Pierre-Yves Oudeyer': 1, 'George E. Dahl': 1, 'Percy S. Liang': 5, 'Paul Weng': 1, 'Pavel Serdyukov': 1, 'Maarten de Rijke': 2, 'Pengtao Xie': 5, 'Wei Wu': 2, 'Yaoliang Yu': 3, 'Yi Zhou': 7, 'Peter Carr 0001': 1, 'David P. Helmbold': 1, 'Victor Gabillon': 2, 'Peter Richtárik': 1, 'Philip S. Thomas': 1, 'Peter Stone': 1, 'Philipp Moritz': 2, 'Roy Fox': 3, 'Pierre-Luc Bacon': 2, 'Pieter-Jan Kindermans': 4, 'Alexandre Tkatchenko': 1, 'Piotr Indyk': 1, 'Poorya Mianjy': 2, 'René Vidal': 2, 'Michael W. Mahoney': 3, 'Praneeth Netrapalli': 1, 'Pratik Jawanpuria': 1, 'Bamdev Mishra': 1, 'Purnamrita Sarkar': 1, 'Lizhen Lin': 1, 'Giovanni Zappella': 1, 'Bill Freeman': 1, 'Charles A. Sutton': 1, 'Qi Meng': 1, 'Qiang Liu': 3, 'Jennifer Neville': 2, 'Jian Peng': 1, 'Vinayak Rao': 2, 'Qiang Qiu': 1, 'Xiuyuan Cheng': 3, 'Qihang Lin': 1, 'Qin Zhang 0001': 2, 'Qing Qu': 1, 'Yonina C. Eldar': 2, 'Qingshan Liu 0001': 2, 'Dimitris N. Metaxas': 2, 'Quanming Yao': 1, 'James Tin-Yau Kwok': 1, 'Quentin Berthet': 1, 'Vianney Perchet': 1, 'Qunwei Li': 2, 'Yingbin Liang': 2, 'Quoc Tran-Dinh': 1, 'Rajat Sen': 4, 'Rajesh Ranganath': 1, 'Rajiv Khanna': 2, 'Raman Arora': 1, 'Rashish Tandon': 2, 'Regina Barzilay': 1, 'Tommi S. Jaakkola': 1, 'Renjie Liao': 2, 'Riad Akrour': 1, 'Ricardo Henao': 1, 'Robert C. Williamson': 1, 'Risi Kondor': 1, 'Shubhendu Trivedi': 1, 'Rizal Fathony': 1, 'Xinhua Zhang': 2, 'Laura Balzano': 1, 'Robert Nishihara': 2, 'Yuval Kluger': 1, 'Yingyu Liang': 6, 'Ruoyu Sun': 1, 'Yixuan Li': 1, 'Rupesh Kumar Srivastava': 1, 'Jan Koutník': 1, 'Taylor Berg-Kirkpatrick': 2, 'Tamara Broderick': 1, 'Rémi Bardenet': 1, 'Rémi Flamary': 1, 'Róbert Busa-Fekete': 1, 'Sabyasachi Chatterjee': 1, 'Rina Foygel Barber': 1, 'Sainbayar Sukhbaatar': 1, 'Sanjeev Arora': 5, 'Bo Xie 0002': 1, 'Zohar S. Karnin': 2, 'Shahin Jabbari': 3, 'Shakir Mohamed': 1, 'Shali Jiang': 3, 'Gustavo Malkomes': 1, 'Shinichi Nakajima': 2, 'Shipra Agrawal 0001': 4, 'Morteza Zadimoghaddam': 1, 'Shiva Prasad Kasiviswanathan': 3, 'Nina Mishra': 2, 'Shixiang Gu': 4, 'Shuai Li': 1, 'Shusen Wang': 2, 'Si Si': 1, 'Simon S. Du': 10, 'Quanquan Gu': 1, 'Sivan Sabato': 1, 'Sivaraman Balakrishnan': 1, 'Soheil Feizi': 1, 'Soheil Mohajer': 1, 'Song Han': 1, 'Yong Yu': 1, 'Song Liu 0002': 1, 'Songbai Yan': 1, 'Soumya Ghosh': 1, 'Joseph J. Lim': 1, 'Stephen H. Bach': 1, 'Christopher Ré': 1, 'Stephen Mussmann': 1, 'Stephen Tu': 4, 'Steven C. H. Hoi': 1, 'Sudipto Guha': 2, 'Sungsoo Ahn': 1, 'Sunil Kumar Gupta 0001': 1, 'Vu Nguyen 0001': 2, 'Suriya Gunasekar': 6, 'Taifeng Wang': 1, 'Kohei Hayashi': 1, 'Tameem Adel': 2, 'Tatsunori B. Hashimoto': 4, 'Tengyu Ma': 2, 'Thodoris Lykouris': 1, 'Thomas Bonald': 1, 'Richard Combes': 1, 'Thomas G. Dietterich': 2, 'Alan Fern': 1, 'Zhitang Chen': 1, 'Thomas Unterthiner': 2, 'Tianlin Shi': 3, 'Tim Roughgarden': 1, 'Okke Schrijvers': 1, 'Toby Hocking': 1, 'François Laviolette': 1, 'Tolga Bolukbasi': 2, 'Tom Rainforth': 2, 'Tom Zahavy': 2, 'Tomer Koren': 2, 'Yoram Singer': 2, 'Tongliang Liu': 2, 'Ellen Vitercik': 1, 'Tuomas Sandholm': 1, 'Tuan Anh Le': 3, 'Umut Simsekli': 1, 'Alexandre Gramfort': 1, 'Urs Köster': 1, 'Xin Wang': 1, 'Veeranjaneyulu Sadhanala': 1, 'Virginia Smith': 1, 'Ameet S. Talwalkar': 1, 'Vladlen Koltun': 1, 'Lorenzo Torresani': 1, 'Volodymyr Kuleshov': 1, 'Svetha Venkatesh': 1, 'Wei Ping': 1, 'Jonathan Raiman': 1, 'Weidong Cai': 1, 'Weihao Kong': 1, 'Weiyang Liu': 5, 'Wenling Shang': 1, 'C. Lawrence Zitnick': 1, 'Wesley Tansey': 1, 'William L. Hamilton': 1, 'Jure Leskovec': 1, 'Wittawat Jitkrittum': 1, 'Wojciech Kotlowski': 3, 'Alan Malek': 1, 'Wray L. Buntine': 1, 'Mingyuan Zhou': 1, 'Wulfram Gerstner': 1, 'Xiangru Huang': 1, 'Qixing Huang': 1, 'Xiangru Lian': 1, 'Xiao Fu 0001': 1, 'Mingyi Hong': 1, 'Xiao-Tong Yuan': 1, 'Xiaodan Liang': 4, 'Jun Zhu 0001': 1, 'Xiaofei He': 1, 'Jie Wang': 1, 'Xiaohui Shen': 5, 'Xiaojie Jin': 5, 'Yingzhen Yang': 4, 'Xiaojing Ye': 5, 'Brian D. Ziebart': 1, 'A. Robert Calderbank': 1, 'Guillermo Sapiro': 1, 'Xu Jia': 1, 'XuanLong Nguyen': 1, 'Yacine Jernite': 1, 'Yan Duan': 3, 'Yanan Sui': 1, 'Yang Song': 2, 'Yao Ma': 2, 'Yasin Abbasi-Yadkori': 1, 'Yi Wang': 1, 'Yew-Soon Ong': 1, 'Yi Wu': 3, 'Nicholas Hay': 1, 'Stuart J. Russell': 1, 'Yi Xu': 1, 'Pramod K. Varshney': 2, 'Yi-An Ma': 3, 'Yingzhen Li': 2, 'Yishu Miao': 1, 'Edward Grefenstette': 1, 'Yizhe Zhang': 2, 'Zhe Gan': 3, 'John Wright': 1, 'Yu Liu': 2, 'Yu-Xiong Wang': 1, 'Yang Yuan': 1, 'Yuchen Zhang': 1, 'Yudong Chen': 1, 'Kannan Ramchandran': 1, 'Yue Wang': 1, 'Zhangyang Wang': 1, 'Yuhuai Wu': 4, 'David K. Duvenaud': 1, 'Yunpeng Pan': 1, 'Yury Ustinovskiy': 1, 'Chao Chen': 1, 'Yusuke Muraoka': 2, 'Kai Fan': 1, 'Zheng Xu 0002': 3, 'Christoph Studer': 1, 'Zhengyuan Zhou': 3, 'Claire Tomlin': 1, 'Li-Jia Li': 1, 'Stephen P. Boyd': 1, 'Zhenwen Dai': 3, 'Andreas C. Damianou': 1, 'Mauricio A. Álvarez': 1, 'Neil D. Lawrence': 1, 'Zhiting Hu': 2, 'Zhouhan Lin': 2, 'Zhuoran Yang': 1, 'Zi Wang': 3, 'Dávid Pál': 1, 'Zoltán Szabó 0001': 1, 'Ürün Dogan': 1, 'Clayton Scott': 1})"
      ]
     },
     "execution_count": 19,
     "metadata": {},
     "output_type": "execute_result"
    }
   ],
   "source": [
    "# b) Read the file \"new_edges.txt\"\n",
    "fh2 = open(\"new_edges.txt\", 'r')\n",
    "g_new = nx.read_edgelist(fh2, delimiter = '\\t')\n",
    "print(nx.info(g_new))\n",
    "\n",
    "# keep track of the new collaborations\n",
    "g_new.degree()"
   ]
  },
  {
   "cell_type": "code",
   "execution_count": 57,
   "metadata": {},
   "outputs": [],
   "source": [
    "# c) Recommend by number of common friends\n",
    "def friends(G, X):\n",
    "    \"\"\"Returns a set of the friends of the given author, in the given graph\"\"\"\n",
    "    return set(G.neighbors(X))\n",
    "\n",
    "def friends_of_friends(G, X):\n",
    "    \"\"\"Returns a set of friends of friends of the given author, in the given graph\"\"\"\n",
    "    X_friends = friends(G, X)\n",
    "    X_friends_of_friends = set()\n",
    "\n",
    "    for friend in X_friends:\n",
    "        X_friends_of_friends.update(friends(G, friend) - X_friends)\n",
    "\n",
    "    return X_friends_of_friends - {X}\n",
    "\n",
    "def common_friends(G, X1, X2):\n",
    "    \"\"\"Returns the set of friends that X1 and X2 have in common.\"\"\"\n",
    "    return friends(G, X1).intersection(friends(G, X2))\n",
    "\n",
    "def common_friends_number(G, X):\n",
    "    common_friends_dict = {}\n",
    "    X_friends_of_friends = friends_of_friends(G, X)\n",
    "\n",
    "    for y in X_friends_of_friends:\n",
    "        number = len(common_friends(G, X, y))\n",
    "        if number >= 1:\n",
    "            common_friends_dict[y] = number\n",
    "\n",
    "    sorted_list = [v[0] for v in sorted(common_friends_dict.items(), key=lambda kv: kv[1], reverse=True)]\n",
    "    \n",
    "    return sorted_list"
   ]
  },
  {
   "cell_type": "code",
   "execution_count": 50,
   "metadata": {},
   "outputs": [],
   "source": [
    "# d) Make recommendations using Jaccard’s Index\n",
    "def jaccard_index(G, X):\n",
    "    jaccard_index_dict = {}\n",
    "    X_friends = friends(G, X)\n",
    "    X_friends_of_friends = friends_of_friends(G, X)\n",
    "    \n",
    "    for y in X_friends_of_friends:\n",
    "        y_friends = friends(G, y)\n",
    "        intersection = len(common_friends(G, X, y))\n",
    "        union = (len(X_friends) + len(y_friends)) - intersection\n",
    "        jaccard_score = intersection / union\n",
    "        jaccard_index_dict[y] = jaccard_score\n",
    "\n",
    "    sorted_list = [v[0] for v in sorted(jaccard_index_dict.items(), key=lambda kv: kv[1], reverse=True)]\n",
    "        \n",
    "    return sorted_list"
   ]
  },
  {
   "cell_type": "code",
   "execution_count": 53,
   "metadata": {},
   "outputs": [],
   "source": [
    "# e) Make recommendations using Adamic/Adar Index\n",
    "def adamic_adar_index(G, X):\n",
    "    X_friends = friends(G, X)\n",
    "    X_friends_of_friends = friends_of_friends(G, X)\n",
    "    adamic_adar_index_dict = {}\n",
    "    \n",
    "    for y in X_friends_of_friends:\n",
    "        common_neighbors_Xy = common_friends(G, X, y)\n",
    "        \n",
    "        adamic_adar_index = 0\n",
    "        for Z in common_neighbors_Xy:\n",
    "            Z_friends = friends(G, Z)\n",
    "            adamic_adar_index += 1 / math.log(len(Z_friends))\n",
    "            \n",
    "        adamic_adar_index_dict[y] = adamic_adar_index\n",
    "        \n",
    "    sorted_list = [v[0] for v in sorted(adamic_adar_index_dict.items(), key=lambda kv: kv[1], reverse=True)]\n",
    "    \n",
    "    return sorted_list"
   ]
  },
  {
   "cell_type": "code",
   "execution_count": 85,
   "metadata": {},
   "outputs": [
    {
     "name": "stdout",
     "output_type": "stream",
     "text": [
      "0.07404924014963284\n"
     ]
    }
   ],
   "source": [
    "# f) How good are the recommendations we make?\n",
    "\n",
    "# pick those authors that formed at least 10 new connections between 2017-2018. \n",
    "pick = [node for node,degree in dict(g_new.degree()).items() if degree >= 10]\n",
    "\n",
    "# Approach 1 - for making recommendations using number of common friends\n",
    "accuracy_dict = {}\n",
    "\n",
    "for X in pick:\n",
    "    # take the 10 first recommendations for each user\n",
    "    recomm = common_friends_number(g_old, X)[0:10]\n",
    "    X_true_friends = friends(g_new, X)\n",
    "    \n",
    "    # calculate the number of them that were actually formed during 2017-2018\n",
    "    found_in_true_friends = set(recomm).intersection(X_true_friends)\n",
    "    accuracy_dict[X] = len(found_in_true_friends) / len(X_true_friends)\n",
    "    \n",
    "# calculate the average among users\n",
    "score = [v for _, v in accuracy_dict.items()]\n",
    "average = sum(score) / len(score)\n",
    "print(average)"
   ]
  },
  {
   "cell_type": "code",
   "execution_count": 86,
   "metadata": {},
   "outputs": [
    {
     "name": "stdout",
     "output_type": "stream",
     "text": [
      "0.04847337437328376\n"
     ]
    }
   ],
   "source": [
    "# Approach 1 - for making recommendations using Jaccard Index\n",
    "accuracy_dict = {}\n",
    "\n",
    "for X in pick:\n",
    "    # take the 10 first recommendations for each user\n",
    "    recomm = jaccard_index(g_old, X)[0:10]\n",
    "    X_true_friends = friends(g_new, X)\n",
    "    \n",
    "    # calculate the number of them that were actually formed during 2017-2018    \n",
    "    found_in_true_friends = set(recomm).intersection(X_true_friends)\n",
    "    accuracy_dict[X] = len(found_in_true_friends) / len(X_true_friends)\n",
    "    \n",
    "# calculate the average among users\n",
    "score = [v for _, v in accuracy_dict.items()]\n",
    "average = sum(score) / len(score)\n",
    "print(average)"
   ]
  },
  {
   "cell_type": "code",
   "execution_count": 87,
   "metadata": {},
   "outputs": [
    {
     "name": "stdout",
     "output_type": "stream",
     "text": [
      "0.06629307606654132\n"
     ]
    }
   ],
   "source": [
    "# Approach 1 - for making recommendations using Adamic/Adar Index\n",
    "accuracy_dict = {}\n",
    "\n",
    "for X in pick:\n",
    "    # take the 10 first recommendations for each user\n",
    "    recomm = adamic_adar_index(g_old, X)[0:10]\n",
    "    X_true_friends = friends(g_new, X)\n",
    "    \n",
    "    # calculate the number of them that were actually formed during 2017-2018    \n",
    "    found_in_true_friends = set(recomm).intersection(X_true_friends)\n",
    "    accuracy_dict[X] = len(found_in_true_friends) / len(X_true_friends)\n",
    "    \n",
    "# calculate the average among users\n",
    "score = [v for _, v in accuracy_dict.items()]\n",
    "average = sum(score) / len(score)\n",
    "print(average)"
   ]
  },
  {
   "cell_type": "code",
   "execution_count": 91,
   "metadata": {},
   "outputs": [
    {
     "name": "stdout",
     "output_type": "stream",
     "text": [
      "101.1275720164609\n"
     ]
    }
   ],
   "source": [
    "# Approach 2 - for making recommendations using number of common friends\n",
    "rank_dict = {}\n",
    "\n",
    "for X in pick:\n",
    "    recomm = common_friends_number(g_old, X)\n",
    "    X_true_friends = friends(g_new, X)\n",
    "    \n",
    "    # for each newly formed collaboration of user X, calculate the rank of this collaboration  \n",
    "    for new in X_true_friends:\n",
    "        if new in recomm:\n",
    "            rank = recomm.index(new)\n",
    "        else:\n",
    "            rank = len(recomm)\n",
    "    \n",
    "        rank_dict[new] = rank\n",
    "    \n",
    "# calculate the average among newly formed edges\n",
    "values = [v for _, v in rank_dict.items()]\n",
    "average = sum(values) / len(values)\n",
    "print(average)"
   ]
  },
  {
   "cell_type": "code",
   "execution_count": 93,
   "metadata": {},
   "outputs": [
    {
     "name": "stdout",
     "output_type": "stream",
     "text": [
      "102.60082304526749\n"
     ]
    }
   ],
   "source": [
    "# Approach 2 - for making recommendations using Jaccard Index\n",
    "rank_dict = {}\n",
    "\n",
    "for X in pick:\n",
    "    recomm = jaccard_index(g_old, X)\n",
    "    X_true_friends = friends(g_new, X)\n",
    "    \n",
    "    # for each newly formed collaboration of user X, calculate the rank of this collaboration  \n",
    "    for new in X_true_friends:\n",
    "        if new in recomm:\n",
    "            rank = recomm.index(new)\n",
    "        else:\n",
    "            rank = len(recomm)\n",
    "    \n",
    "        rank_dict[new] = rank\n",
    "    \n",
    "# calculate the average among newly formed edges\n",
    "values = [v for _, v in rank_dict.items()]\n",
    "average = sum(values) / len(values)\n",
    "print(average)"
   ]
  },
  {
   "cell_type": "code",
   "execution_count": 94,
   "metadata": {},
   "outputs": [
    {
     "name": "stdout",
     "output_type": "stream",
     "text": [
      "99.66666666666667\n"
     ]
    }
   ],
   "source": [
    "# Approach 2 - for making recommendations using Adamic/Adar Index\n",
    "rank_dict = {}\n",
    "\n",
    "for X in pick:\n",
    "    recomm = adamic_adar_index(g_old, X)\n",
    "    X_true_friends = friends(g_new, X)\n",
    "    \n",
    "    # for each newly formed collaboration of user X, calculate the rank of this collaboration  \n",
    "    for new in X_true_friends:\n",
    "        if new in recomm:\n",
    "            rank = recomm.index(new)\n",
    "        else:\n",
    "            rank = len(recomm)\n",
    "    \n",
    "        rank_dict[new] = rank\n",
    "    \n",
    "# calculate the average among newly formed edges\n",
    "values = [v for _, v in rank_dict.items()]\n",
    "average = sum(values) / len(values)\n",
    "print(average)"
   ]
  }
 ],
 "metadata": {
  "kernelspec": {
   "display_name": "Python 3",
   "language": "python",
   "name": "python3"
  },
  "language_info": {
   "codemirror_mode": {
    "name": "ipython",
    "version": 3
   },
   "file_extension": ".py",
   "mimetype": "text/x-python",
   "name": "python",
   "nbconvert_exporter": "python",
   "pygments_lexer": "ipython3",
   "version": "3.7.6"
  }
 },
 "nbformat": 4,
 "nbformat_minor": 4
}
